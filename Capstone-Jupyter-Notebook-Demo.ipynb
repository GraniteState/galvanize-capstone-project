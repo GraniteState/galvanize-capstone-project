{
 "cells": [
  {
   "cell_type": "code",
   "execution_count": 1,
   "metadata": {
    "collapsed": true
   },
   "outputs": [],
   "source": [
    "from src.prepare_court_data import import_dataframe, reverse_stem\n",
    "from src.ml_transformer import Stemming_Transformer\n",
    "from bs4 import BeautifulSoup\n",
    "import pandas as pd\n",
    "import numpy as np\n",
    "import pyspark as ps\n",
    "from pyspark.ml import Pipeline\n",
    "from pyspark.ml.feature import Tokenizer, RegexTokenizer, StopWordsRemover, NGram, \\\n",
    "        CountVectorizer, IDF, Word2Vec\n",
    "from pyspark.sql.functions import udf, col, explode, collect_list, to_date, concat\n",
    "from pyspark.sql.types import StructType, StructField, IntegerType, StringType, \\\n",
    "        FloatType, ArrayType, BooleanType\n"
   ]
  },
  {
   "cell_type": "code",
   "execution_count": 2,
   "metadata": {
    "collapsed": true
   },
   "outputs": [],
   "source": [
    "# Import json objects from tar file\n",
    "opinion_df = import_dataframe(spark, 'opinion')\n",
    "docket_df = import_dataframe(spark, 'docket')\n",
    "cluster_df = import_dataframe(spark, 'cluster')\n"
   ]
  },
  {
   "cell_type": "code",
   "execution_count": 3,
   "metadata": {
    "collapsed": true
   },
   "outputs": [],
   "source": [
    "# Setup pipeline for adding ML features - tokens, stems, n-grams, tf, tfidf, word2vec\n",
    "# tokenizer = Tokenizer(inputCol='parsed_text', outputCol='tokens')\n",
    "tokenizer = RegexTokenizer(inputCol=\"parsed_text\", outputCol=\"raw_tokens\", pattern=\"\\\\W\", minTokenLength=3)\n",
    "remover = StopWordsRemover(inputCol=tokenizer.getOutputCol(), outputCol='tokens_stop')\n",
    "stemmer = Stemming_Transformer(inputCol=remover.getOutputCol(), outputCol='tokens')\n",
    "bigram = NGram(inputCol=stemmer.getOutputCol(), outputCol='bigrams', n=2)\n",
    "trigram = NGram(inputCol=stemmer.getOutputCol(), outputCol='trigrams', n=3)\n",
    "cv = CountVectorizer(inputCol=stemmer.getOutputCol(), outputCol='token_countvector', minDF=10.0)\n",
    "idf = IDF(inputCol=cv.getOutputCol(), outputCol='token_idf', minDocFreq=10)\n",
    "w2v_2d = Word2Vec(vectorSize=2, minCount=2, inputCol=stemmer.getOutputCol(), outputCol='word2vec_2d')\n",
    "w2v_large = Word2Vec(vectorSize=250, minCount=2, inputCol=stemmer.getOutputCol(), outputCol='word2vec_large')\n"
   ]
  },
  {
   "cell_type": "code",
   "execution_count": 4,
   "metadata": {
    "collapsed": true
   },
   "outputs": [],
   "source": [
    "pipe = Pipeline(stages=[tokenizer, remover, stemmer, cv, idf, w2v_2d, w2v_large])\n"
   ]
  },
  {
   "cell_type": "code",
   "execution_count": 5,
   "metadata": {
    "collapsed": true
   },
   "outputs": [],
   "source": [
    "# Use the pipeline to fit a model\n",
    "model = pipe.fit(opinion_df)\n"
   ]
  },
  {
   "cell_type": "code",
   "execution_count": 6,
   "metadata": {
    "collapsed": true
   },
   "outputs": [],
   "source": [
    "# Use the model to transform the data\n",
    "df_transformed = model.transform(opinion_df)\n"
   ]
  },
  {
   "cell_type": "code",
   "execution_count": 22,
   "metadata": {
    "collapsed": false
   },
   "outputs": [],
   "source": [
    "# extract the vector from a specific document and take the squared distance or cosine similarity for all other documents, show the ten nearest\n",
    "ref_vec = df_transformed.filter(df_transformed.resource_id == '1390131').first()['word2vec_large']\n"
   ]
  },
  {
   "cell_type": "code",
   "execution_count": 23,
   "metadata": {
    "collapsed": false
   },
   "outputs": [
    {
     "name": "stdout",
     "output_type": "stream",
     "text": [
      "+-----------+----------------+\n",
      "|resource_id|squared_distance|\n",
      "+-----------+----------------+\n",
      "|    1390131|             0.0|\n",
      "|    2612515|     0.047901332|\n",
      "|    1450913|     0.051825076|\n",
      "|    1162810|     0.055476364|\n",
      "|    1393380|     0.055871524|\n",
      "|    1233917|     0.057295434|\n",
      "|    1219322|      0.05813922|\n",
      "|    1441544|      0.05997757|\n",
      "|    1423352|      0.06079702|\n",
      "|    1185879|       0.0611139|\n",
      "+-----------+----------------+\n",
      "only showing top 10 rows\n",
      "\n"
     ]
    }
   ],
   "source": [
    "udf_squared_distance = udf(lambda cell: float(ref_vec.squared_distance(cell)), FloatType())\n",
    "df_transformed \\\n",
    "        .withColumn('squared_distance', udf_squared_distance(df_transformed.word2vec_large)) \\\n",
    "        .sort(col('squared_distance'), ascending=True) \\\n",
    "        .select('resource_id', 'squared_distance').show(10)\n"
   ]
  },
  {
   "cell_type": "code",
   "execution_count": 24,
   "metadata": {
    "collapsed": false
   },
   "outputs": [
    {
     "name": "stdout",
     "output_type": "stream",
     "text": [
      "+-----------+--------------+\n",
      "|resource_id|cos_similarity|\n",
      "+-----------+--------------+\n",
      "|    3008802|           NaN|\n",
      "|    2714947|           NaN|\n",
      "|    1390131|           1.0|\n",
      "|    2612515|     0.9115429|\n",
      "|    1450913|     0.9068901|\n",
      "|    1162810|        0.8948|\n",
      "|    1441544|     0.8940455|\n",
      "|    1219322|     0.8889688|\n",
      "|    1194652|    0.88873464|\n",
      "|    1185879|     0.8885578|\n",
      "|    1393380|    0.88777256|\n",
      "|    1316809|     0.8869071|\n",
      "+-----------+--------------+\n",
      "only showing top 12 rows\n",
      "\n"
     ]
    }
   ],
   "source": [
    "udf_cos_sim = udf(lambda cell: float(ref_vec.dot(cell) / (ref_vec.norm(2) * cell.norm(2))), FloatType())\n",
    "df_transformed \\\n",
    "        .withColumn('cos_similarity', udf_cos_sim(df_transformed.word2vec_large)) \\\n",
    "        .sort(col('cos_similarity'), ascending=False) \\\n",
    "        .select('resource_id', 'cos_similarity').show(12)\n"
   ]
  },
  {
   "cell_type": "code",
   "execution_count": 15,
   "metadata": {
    "collapsed": false
   },
   "outputs": [
    {
     "data": {
      "text/plain": [
       "26572"
      ]
     },
     "execution_count": 15,
     "metadata": {},
     "output_type": "execute_result"
    }
   ],
   "source": [
    "df_transformed.count()"
   ]
  },
  {
   "cell_type": "code",
   "execution_count": 18,
   "metadata": {
    "collapsed": false
   },
   "outputs": [
    {
     "data": {
      "text/plain": [
       "24369"
      ]
     },
     "execution_count": 18,
     "metadata": {},
     "output_type": "execute_result"
    }
   ],
   "source": [
    "df_transformed.select('cluster_id').distinct().count()"
   ]
  },
  {
   "cell_type": "code",
   "execution_count": 21,
   "metadata": {
    "collapsed": false
   },
   "outputs": [
    {
     "name": "stdout",
     "output_type": "stream",
     "text": [
      "+----------------------------------------------------------+-----+\n",
      "|cites                                                     |count|\n",
      "+----------------------------------------------------------+-----+\n",
      "|http://www.courtlistener.com/api/rest/v3/opinions/1390131/|229  |\n",
      "|http://www.courtlistener.com/api/rest/v3/opinions/107252/ |203  |\n",
      "|http://www.courtlistener.com/api/rest/v3/opinions/2624899/|175  |\n",
      "|http://www.courtlistener.com/api/rest/v3/opinions/108111/ |126  |\n",
      "|http://www.courtlistener.com/api/rest/v3/opinions/2612679/|117  |\n",
      "|http://www.courtlistener.com/api/rest/v3/opinions/1407600/|108  |\n",
      "|http://www.courtlistener.com/api/rest/v3/opinions/1370280/|102  |\n",
      "|http://www.courtlistener.com/api/rest/v3/opinions/111170/ |98   |\n",
      "|http://www.courtlistener.com/api/rest/v3/opinions/2594992/|92   |\n",
      "|http://www.courtlistener.com/api/rest/v3/opinions/107729/ |92   |\n",
      "|http://www.courtlistener.com/api/rest/v3/opinions/1116120/|80   |\n",
      "|http://www.courtlistener.com/api/rest/v3/opinions/1194272/|77   |\n",
      "|http://www.courtlistener.com/api/rest/v3/opinions/136995/ |77   |\n",
      "|http://www.courtlistener.com/api/rest/v3/opinions/107359/ |76   |\n",
      "|http://www.courtlistener.com/api/rest/v3/opinions/1159920/|74   |\n",
      "|http://www.courtlistener.com/api/rest/v3/opinions/1427513/|74   |\n",
      "|http://www.courtlistener.com/api/rest/v3/opinions/1119446/|71   |\n",
      "|http://www.courtlistener.com/api/rest/v3/opinions/1160222/|70   |\n",
      "|http://www.courtlistener.com/api/rest/v3/opinions/1123791/|69   |\n",
      "|http://www.courtlistener.com/api/rest/v3/opinions/1145323/|69   |\n",
      "+----------------------------------------------------------+-----+\n",
      "only showing top 20 rows\n",
      "\n"
     ]
    }
   ],
   "source": [
    "# create a count for each opinion of the number of times it has been cited by other Washington opinions\n",
    "df_citecount = spark.createDataFrame(\n",
    "        df_transformed.select(explode(df_transformed.opinions_cited).alias('cites')) \\\n",
    "                .groupBy('cites') \\\n",
    "                .count() \\\n",
    "                .collect())\n",
    "df_citecount.orderBy('count', ascending=False).show(truncate=False)\n"
   ]
  },
  {
   "cell_type": "code",
   "execution_count": null,
   "metadata": {
    "collapsed": true
   },
   "outputs": [],
   "source": []
  }
 ],
 "metadata": {
  "kernelspec": {
   "display_name": "Python 3",
   "language": "python",
   "name": "python3"
  },
  "language_info": {
   "codemirror_mode": {
    "name": "ipython",
    "version": 3
   },
   "file_extension": ".py",
   "mimetype": "text/x-python",
   "name": "python",
   "nbconvert_exporter": "python",
   "pygments_lexer": "ipython3",
   "version": "3.5.2"
  }
 },
 "nbformat": 4,
 "nbformat_minor": 2
}
