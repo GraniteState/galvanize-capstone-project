{
 "cells": [
  {
   "cell_type": "code",
   "execution_count": 1,
   "metadata": {
    "collapsed": true
   },
   "outputs": [],
   "source": [
    "from src.prepare_court_data import import_dataframe, reverse_stem\n",
    "from src.ml_transformer import Stemming_Transformer\n",
    "from bs4 import BeautifulSoup\n",
    "import pandas as pd\n",
    "import numpy as np\n",
    "import pyspark as ps\n",
    "from pyspark.ml import Pipeline\n",
    "from pyspark.ml.feature import Tokenizer, RegexTokenizer, StopWordsRemover, NGram, \\\n",
    "        CountVectorizer, IDF, Word2Vec\n",
    "from pyspark.sql.functions import udf, col, explode, collect_list, to_date, concat\n",
    "from pyspark.sql.types import StructType, StructField, IntegerType, StringType, \\\n",
    "        FloatType, ArrayType, BooleanType\n"
   ]
  },
  {
   "cell_type": "code",
   "execution_count": 2,
   "metadata": {
    "collapsed": true
   },
   "outputs": [],
   "source": [
    "# Import json objects from tar file\n",
    "opinion_df = import_dataframe(spark, 'opinion')\n",
    "docket_df = import_dataframe(spark, 'docket')\n",
    "cluster_df = import_dataframe(spark, 'cluster')\n"
   ]
  },
  {
   "cell_type": "code",
   "execution_count": 3,
   "metadata": {
    "collapsed": true
   },
   "outputs": [],
   "source": [
    "# Setup pipeline for adding ML features - tokens, stems, n-grams, tf, tfidf, word2vec\n",
    "# tokenizer = Tokenizer(inputCol='parsed_text', outputCol='tokens')\n",
    "tokenizer = RegexTokenizer(inputCol=\"parsed_text\", outputCol=\"raw_tokens\", pattern=\"\\\\W\", minTokenLength=3)\n",
    "remover = StopWordsRemover(inputCol=tokenizer.getOutputCol(), outputCol='tokens_stop')\n",
    "stemmer = Stemming_Transformer(inputCol=remover.getOutputCol(), outputCol='tokens')\n",
    "bigram = NGram(inputCol=stemmer.getOutputCol(), outputCol='bigrams', n=2)\n",
    "trigram = NGram(inputCol=stemmer.getOutputCol(), outputCol='trigrams', n=3)\n",
    "cv = CountVectorizer(inputCol=stemmer.getOutputCol(), outputCol='token_countvector', minDF=10.0)\n",
    "idf = IDF(inputCol=cv.getOutputCol(), outputCol='token_idf', minDocFreq=10)\n",
    "w2v_2d = Word2Vec(vectorSize=2, minCount=2, inputCol=stemmer.getOutputCol(), outputCol='word2vec_2d')\n",
    "w2v_large = Word2Vec(vectorSize=250, minCount=2, inputCol=stemmer.getOutputCol(), outputCol='word2vec_large')\n"
   ]
  },
  {
   "cell_type": "code",
   "execution_count": 4,
   "metadata": {
    "collapsed": true
   },
   "outputs": [],
   "source": [
    "pipe = Pipeline(stages=[tokenizer, remover, stemmer, cv, idf, w2v_2d, w2v_large])\n"
   ]
  },
  {
   "cell_type": "code",
   "execution_count": 5,
   "metadata": {
    "collapsed": true
   },
   "outputs": [],
   "source": [
    "# Use the pipeline to fit a model\n",
    "model = pipe.fit(opinion_df)\n"
   ]
  },
  {
   "cell_type": "code",
   "execution_count": 6,
   "metadata": {
    "collapsed": true
   },
   "outputs": [],
   "source": [
    "# Use the model to transform the data\n",
    "df_transformed = model.transform(opinion_df)\n"
   ]
  },
  {
   "cell_type": "code",
   "execution_count": 9,
   "metadata": {
    "collapsed": false
   },
   "outputs": [],
   "source": [
    "# extract the vector from a specific document and take the squared distance or cosine similarity for all other documents, show the ten nearest\n",
    "ref_vec = df_transformed.filter(df_transformed.resource_id == '3990749').first()['word2vec_large']\n"
   ]
  },
  {
   "cell_type": "code",
   "execution_count": 13,
   "metadata": {
    "collapsed": false
   },
   "outputs": [
    {
     "name": "stdout",
     "output_type": "stream",
     "text": [
      "+-----------+----------------+\n",
      "|resource_id|squared_distance|\n",
      "+-----------+----------------+\n",
      "|    3990749|             0.0|\n",
      "|    3998122|      0.27114186|\n",
      "|    4001633|      0.28030676|\n",
      "|    3992923|      0.29765123|\n",
      "|    3992058|       0.3019882|\n",
      "|    3999305|      0.30707687|\n",
      "|    4001545|       0.3082107|\n",
      "|    3999645|      0.30963397|\n",
      "|    3996555|      0.31466758|\n",
      "|    3996670|      0.33596513|\n",
      "+-----------+----------------+\n",
      "only showing top 10 rows\n",
      "\n"
     ]
    }
   ],
   "source": [
    "udf_squared_distance = udf(lambda cell: float(ref_vec.squared_distance(cell)), FloatType())\n",
    "df_transformed \\\n",
    "        .withColumn('squared_distance', udf_squared_distance(df_transformed.word2vec_large)) \\\n",
    "        .sort(col('squared_distance'), ascending=True) \\\n",
    "        .select('resource_id', 'squared_distance').show(10)\n"
   ]
  },
  {
   "cell_type": "code",
   "execution_count": 14,
   "metadata": {
    "collapsed": false
   },
   "outputs": [
    {
     "name": "stdout",
     "output_type": "stream",
     "text": [
      "+-----------+--------------+\n",
      "|resource_id|cos_similarity|\n",
      "+-----------+--------------+\n",
      "|    3008802|           NaN|\n",
      "|    2714947|           NaN|\n",
      "|    3990749|           1.0|\n",
      "|    4001570|     0.8799179|\n",
      "|    3992923|      0.875615|\n",
      "|    3992058|    0.87388444|\n",
      "|    3996670|     0.8699875|\n",
      "|    3999305|    0.85111225|\n",
      "|    4000197|    0.84915984|\n",
      "|    4001526|    0.84371835|\n",
      "|    3998083|      0.843271|\n",
      "|    4001806|    0.84148145|\n",
      "+-----------+--------------+\n",
      "only showing top 12 rows\n",
      "\n"
     ]
    }
   ],
   "source": [
    "udf_cos_sim = udf(lambda cell: float(ref_vec.dot(cell) / (ref_vec.norm(2) * cell.norm(2))), FloatType())\n",
    "df_transformed \\\n",
    "        .withColumn('cos_similarity', udf_cos_sim(df_transformed.word2vec_large)) \\\n",
    "        .sort(col('cos_similarity'), ascending=False) \\\n",
    "        .select('resource_id', 'cos_similarity').show(12)\n"
   ]
  },
  {
   "cell_type": "code",
   "execution_count": null,
   "metadata": {
    "collapsed": true
   },
   "outputs": [],
   "source": []
  }
 ],
 "metadata": {
  "kernelspec": {
   "display_name": "Python 3",
   "language": "python",
   "name": "python3"
  },
  "language_info": {
   "codemirror_mode": {
    "name": "ipython",
    "version": 3
   },
   "file_extension": ".py",
   "mimetype": "text/x-python",
   "name": "python",
   "nbconvert_exporter": "python",
   "pygments_lexer": "ipython3",
   "version": "3.5.2"
  }
 },
 "nbformat": 4,
 "nbformat_minor": 2
}
